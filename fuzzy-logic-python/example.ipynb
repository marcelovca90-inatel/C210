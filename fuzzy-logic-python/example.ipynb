{
 "cells": [
  {
   "cell_type": "code",
   "execution_count": null,
   "metadata": {},
   "outputs": [],
   "source": [
    "import numpy as np\n",
    "import skfuzzy as fuzz\n",
    "from skfuzzy import control as ctrl"
   ]
  },
  {
   "cell_type": "code",
   "execution_count": null,
   "metadata": {},
   "outputs": [],
   "source": [
    "# New Antecedent/Consequent objects hold universe variables and membership functions\n",
    "food = ctrl.Antecedent(np.arange(0, 11, 1), 'food')\n",
    "service = ctrl.Antecedent(np.arange(0, 11, 1), 'service')\n",
    "tip = ctrl.Consequent(np.arange(0, 26, 1), 'tip')"
   ]
  },
  {
   "cell_type": "code",
   "execution_count": null,
   "metadata": {},
   "outputs": [],
   "source": [
    "# Auto-membership function population is possible with .automf(3, 5, or 7)\n",
    "food.automf(3)\n",
    "service.automf(3)"
   ]
  },
  {
   "cell_type": "code",
   "execution_count": null,
   "metadata": {},
   "outputs": [],
   "source": [
    "# Custom membership functions can be built interactively with a familiar, Pythonic API\n",
    "tip['low'] = fuzz.trimf(tip.universe, [0, 0, 13])\n",
    "tip['medium'] = fuzz.trimf(tip.universe, [0, 13, 25])\n",
    "tip['high'] = fuzz.trimf(tip.universe, [13, 25, 25])"
   ]
  },
  {
   "cell_type": "code",
   "execution_count": null,
   "metadata": {},
   "outputs": [],
   "source": [
    "# You can see how these look with .view()\n",
    "food.view()\n",
    "service.view()\n",
    "tip.view()"
   ]
  },
  {
   "cell_type": "code",
   "execution_count": null,
   "metadata": {},
   "outputs": [],
   "source": [
    "# Create fuzzy rules\n",
    "rule1 = ctrl.Rule(service['poor'] | food['poor'] , tip['low'])\n",
    "rule2 = ctrl.Rule(service['average'], tip['medium'])\n",
    "rule3 = ctrl.Rule(service['good'] | food['good'], tip['high'])\n",
    "rule1.view()"
   ]
  },
  {
   "cell_type": "code",
   "execution_count": null,
   "metadata": {},
   "outputs": [],
   "source": [
    "# Control System Creation and Simulation\n",
    "tipping_ctrl = ctrl.ControlSystem([rule1, rule2, rule3])\n",
    "tipping = ctrl.ControlSystemSimulation(tipping_ctrl)"
   ]
  },
  {
   "cell_type": "code",
   "execution_count": null,
   "metadata": {},
   "outputs": [],
   "source": [
    "# Pass inputs to the ControlSystem using Antecedent labels with Pythonic API\n",
    "# Note: if you like passing many inputs all at once, use .inputs(dict_of_data)\n",
    "tipping.input['food'] = 6.5\n",
    "tipping.input['service'] = 9.8\n",
    "\n",
    "# Crunch the numbers\n",
    "tipping.compute()"
   ]
  },
  {
   "cell_type": "code",
   "execution_count": null,
   "metadata": {},
   "outputs": [],
   "source": [
    "# Visualize the results\n",
    "print(tipping.output['tip'])\n",
    "tip.view(sim=tipping)"
   ]
  }
 ],
 "metadata": {
  "kernelspec": {
   "display_name": "Python 3",
   "language": "python",
   "name": "python3"
  },
  "language_info": {
   "codemirror_mode": {
    "name": "ipython",
    "version": 3
   },
   "file_extension": ".py",
   "mimetype": "text/x-python",
   "name": "python",
   "nbconvert_exporter": "python",
   "pygments_lexer": "ipython3",
   "version": "3.7.7"
  }
 },
 "nbformat": 4,
 "nbformat_minor": 4
}
